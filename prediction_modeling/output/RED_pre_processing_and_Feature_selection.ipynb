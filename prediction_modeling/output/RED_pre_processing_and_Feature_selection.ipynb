{
 "cells": [
  {
   "cell_type": "code",
   "execution_count": 1,
   "metadata": {},
   "outputs": [],
   "source": [
    "import pandas as pd\n",
    "import numpy as np\n",
    "import pyreadstat\n",
    "import os"
   ]
  },
  {
   "cell_type": "code",
   "execution_count": 2,
   "metadata": {},
   "outputs": [],
   "source": [
    "df = pd.read_csv(\"red_wine_categorical.csv\")"
   ]
  },
  {
   "cell_type": "code",
   "execution_count": 3,
   "metadata": {},
   "outputs": [
    {
     "data": {
      "text/html": [
       "<div>\n",
       "<style scoped>\n",
       "    .dataframe tbody tr th:only-of-type {\n",
       "        vertical-align: middle;\n",
       "    }\n",
       "\n",
       "    .dataframe tbody tr th {\n",
       "        vertical-align: top;\n",
       "    }\n",
       "\n",
       "    .dataframe thead th {\n",
       "        text-align: right;\n",
       "    }\n",
       "</style>\n",
       "<table border=\"1\" class=\"dataframe\">\n",
       "  <thead>\n",
       "    <tr style=\"text-align: right;\">\n",
       "      <th></th>\n",
       "      <th>country</th>\n",
       "      <th>description</th>\n",
       "      <th>designation</th>\n",
       "      <th>points</th>\n",
       "      <th>price</th>\n",
       "      <th>province</th>\n",
       "      <th>region_1</th>\n",
       "      <th>region_2</th>\n",
       "      <th>taster_name</th>\n",
       "      <th>title</th>\n",
       "      <th>variety</th>\n",
       "      <th>winery</th>\n",
       "      <th>freq</th>\n",
       "      <th>c_freq</th>\n",
       "      <th>red</th>\n",
       "      <th>rose</th>\n",
       "      <th>white</th>\n",
       "      <th>sparkling</th>\n",
       "      <th>red_flavor_categories</th>\n",
       "    </tr>\n",
       "  </thead>\n",
       "  <tbody>\n",
       "    <tr>\n",
       "      <th>0</th>\n",
       "      <td>Portugal</td>\n",
       "      <td>This is ripe and fruity, a wine that is smooth...</td>\n",
       "      <td>Avidagos</td>\n",
       "      <td>87</td>\n",
       "      <td>15.0</td>\n",
       "      <td>Douro</td>\n",
       "      <td>NaN</td>\n",
       "      <td>NaN</td>\n",
       "      <td>Roger Voss</td>\n",
       "      <td>Quinta dos Avidagos 2011 Avidagos Red (Douro)</td>\n",
       "      <td>Portuguese Red</td>\n",
       "      <td>Quinta dos Avidagos</td>\n",
       "      <td>2466.0</td>\n",
       "      <td>4856.0</td>\n",
       "      <td>1.0</td>\n",
       "      <td>0.0</td>\n",
       "      <td>0.0</td>\n",
       "      <td>0.0</td>\n",
       "      <td>light and fuity</td>\n",
       "    </tr>\n",
       "    <tr>\n",
       "      <th>1</th>\n",
       "      <td>US</td>\n",
       "      <td>Much like the regular bottling from 2012, this...</td>\n",
       "      <td>Vintner's Reserve Wild Child Block</td>\n",
       "      <td>87</td>\n",
       "      <td>65.0</td>\n",
       "      <td>Oregon</td>\n",
       "      <td>Willamette Valley</td>\n",
       "      <td>Willamette Valley</td>\n",
       "      <td>Paul Gregutt</td>\n",
       "      <td>Sweet Cheeks 2012 Vintner's Reserve Wild Child...</td>\n",
       "      <td>Pinot Noir</td>\n",
       "      <td>Sweet Cheeks</td>\n",
       "      <td>13272.0</td>\n",
       "      <td>52329.0</td>\n",
       "      <td>1.0</td>\n",
       "      <td>0.0</td>\n",
       "      <td>0.0</td>\n",
       "      <td>0.0</td>\n",
       "      <td>medium bodied/ balanced</td>\n",
       "    </tr>\n",
       "    <tr>\n",
       "      <th>2</th>\n",
       "      <td>US</td>\n",
       "      <td>Soft, supple plum envelopes an oaky structure ...</td>\n",
       "      <td>Mountain Cuvée</td>\n",
       "      <td>87</td>\n",
       "      <td>19.0</td>\n",
       "      <td>California</td>\n",
       "      <td>Napa Valley</td>\n",
       "      <td>Napa</td>\n",
       "      <td>Virginie Boone</td>\n",
       "      <td>Kirkland Signature 2011 Mountain Cuvée Caberne...</td>\n",
       "      <td>Cabernet Sauvignon</td>\n",
       "      <td>Kirkland Signature</td>\n",
       "      <td>9472.0</td>\n",
       "      <td>52329.0</td>\n",
       "      <td>1.0</td>\n",
       "      <td>0.0</td>\n",
       "      <td>0.0</td>\n",
       "      <td>0.0</td>\n",
       "      <td>light and fuity</td>\n",
       "    </tr>\n",
       "    <tr>\n",
       "      <th>3</th>\n",
       "      <td>US</td>\n",
       "      <td>Slightly reduced, this wine offers a chalky, t...</td>\n",
       "      <td>NaN</td>\n",
       "      <td>87</td>\n",
       "      <td>34.0</td>\n",
       "      <td>California</td>\n",
       "      <td>Alexander Valley</td>\n",
       "      <td>Sonoma</td>\n",
       "      <td>Virginie Boone</td>\n",
       "      <td>Louis M. Martini 2012 Cabernet Sauvignon (Alex...</td>\n",
       "      <td>Cabernet Sauvignon</td>\n",
       "      <td>Louis M. Martini</td>\n",
       "      <td>9472.0</td>\n",
       "      <td>52329.0</td>\n",
       "      <td>1.0</td>\n",
       "      <td>0.0</td>\n",
       "      <td>0.0</td>\n",
       "      <td>0.0</td>\n",
       "      <td>medium bodied/ balanced</td>\n",
       "    </tr>\n",
       "    <tr>\n",
       "      <th>4</th>\n",
       "      <td>Argentina</td>\n",
       "      <td>Baked plum, molasses, balsamic vinegar and che...</td>\n",
       "      <td>Felix</td>\n",
       "      <td>87</td>\n",
       "      <td>30.0</td>\n",
       "      <td>Other</td>\n",
       "      <td>Cafayate</td>\n",
       "      <td>NaN</td>\n",
       "      <td>Michael Schachner</td>\n",
       "      <td>Felix Lavaque 2010 Felix Malbec (Cafayate)</td>\n",
       "      <td>Malbec</td>\n",
       "      <td>Felix Lavaque</td>\n",
       "      <td>2652.0</td>\n",
       "      <td>3502.0</td>\n",
       "      <td>1.0</td>\n",
       "      <td>0.0</td>\n",
       "      <td>0.0</td>\n",
       "      <td>0.0</td>\n",
       "      <td>medium bodied/ balanced</td>\n",
       "    </tr>\n",
       "    <tr>\n",
       "      <th>5</th>\n",
       "      <td>Argentina</td>\n",
       "      <td>Raw black-cherry aromas are direct and simple ...</td>\n",
       "      <td>Winemaker Selection</td>\n",
       "      <td>87</td>\n",
       "      <td>13.0</td>\n",
       "      <td>Mendoza Province</td>\n",
       "      <td>Mendoza</td>\n",
       "      <td>NaN</td>\n",
       "      <td>Michael Schachner</td>\n",
       "      <td>Gaucho Andino 2011 Winemaker Selection Malbec ...</td>\n",
       "      <td>Malbec</td>\n",
       "      <td>Gaucho Andino</td>\n",
       "      <td>2652.0</td>\n",
       "      <td>3502.0</td>\n",
       "      <td>1.0</td>\n",
       "      <td>0.0</td>\n",
       "      <td>0.0</td>\n",
       "      <td>0.0</td>\n",
       "      <td>full bodied and robust</td>\n",
       "    </tr>\n",
       "    <tr>\n",
       "      <th>6</th>\n",
       "      <td>Spain</td>\n",
       "      <td>Desiccated blackberry, leather, charred wood a...</td>\n",
       "      <td>Vendimia Seleccionada Finca Valdelayegua Singl...</td>\n",
       "      <td>87</td>\n",
       "      <td>28.0</td>\n",
       "      <td>Northern Spain</td>\n",
       "      <td>Ribera del Duero</td>\n",
       "      <td>NaN</td>\n",
       "      <td>Michael Schachner</td>\n",
       "      <td>Pradorey 2010 Vendimia Seleccionada Finca Vald...</td>\n",
       "      <td>Tempranillo Blend</td>\n",
       "      <td>Pradorey</td>\n",
       "      <td>588.0</td>\n",
       "      <td>5014.0</td>\n",
       "      <td>1.0</td>\n",
       "      <td>0.0</td>\n",
       "      <td>0.0</td>\n",
       "      <td>0.0</td>\n",
       "      <td>full bodied and robust</td>\n",
       "    </tr>\n",
       "    <tr>\n",
       "      <th>7</th>\n",
       "      <td>US</td>\n",
       "      <td>Red fruit aromas pervade on the nose, with cig...</td>\n",
       "      <td>NaN</td>\n",
       "      <td>87</td>\n",
       "      <td>32.0</td>\n",
       "      <td>Virginia</td>\n",
       "      <td>Virginia</td>\n",
       "      <td>NaN</td>\n",
       "      <td>Alexander Peartree</td>\n",
       "      <td>Quiévremont 2012 Meritage (Virginia)</td>\n",
       "      <td>Meritage</td>\n",
       "      <td>Quiévremont</td>\n",
       "      <td>260.0</td>\n",
       "      <td>52329.0</td>\n",
       "      <td>1.0</td>\n",
       "      <td>0.0</td>\n",
       "      <td>0.0</td>\n",
       "      <td>0.0</td>\n",
       "      <td>medium bodied/ balanced</td>\n",
       "    </tr>\n",
       "    <tr>\n",
       "      <th>8</th>\n",
       "      <td>US</td>\n",
       "      <td>Ripe aromas of dark berries mingle with ample ...</td>\n",
       "      <td>Vin de Maison</td>\n",
       "      <td>87</td>\n",
       "      <td>23.0</td>\n",
       "      <td>Virginia</td>\n",
       "      <td>Virginia</td>\n",
       "      <td>NaN</td>\n",
       "      <td>Alexander Peartree</td>\n",
       "      <td>Quiévremont 2012 Vin de Maison Red (Virginia)</td>\n",
       "      <td>Red Blend</td>\n",
       "      <td>Quiévremont</td>\n",
       "      <td>8946.0</td>\n",
       "      <td>52329.0</td>\n",
       "      <td>1.0</td>\n",
       "      <td>0.0</td>\n",
       "      <td>0.0</td>\n",
       "      <td>0.0</td>\n",
       "      <td>light and fuity</td>\n",
       "    </tr>\n",
       "    <tr>\n",
       "      <th>9</th>\n",
       "      <td>US</td>\n",
       "      <td>A sleek mix of tart berry, stem and herb, alon...</td>\n",
       "      <td>NaN</td>\n",
       "      <td>87</td>\n",
       "      <td>20.0</td>\n",
       "      <td>Oregon</td>\n",
       "      <td>Oregon</td>\n",
       "      <td>Oregon Other</td>\n",
       "      <td>Paul Gregutt</td>\n",
       "      <td>Acrobat 2013 Pinot Noir (Oregon)</td>\n",
       "      <td>Pinot Noir</td>\n",
       "      <td>Acrobat</td>\n",
       "      <td>13272.0</td>\n",
       "      <td>52329.0</td>\n",
       "      <td>1.0</td>\n",
       "      <td>0.0</td>\n",
       "      <td>0.0</td>\n",
       "      <td>0.0</td>\n",
       "      <td>other</td>\n",
       "    </tr>\n",
       "  </tbody>\n",
       "</table>\n",
       "</div>"
      ],
      "text/plain": [
       "     country                                        description  \\\n",
       "0   Portugal  This is ripe and fruity, a wine that is smooth...   \n",
       "1         US  Much like the regular bottling from 2012, this...   \n",
       "2         US  Soft, supple plum envelopes an oaky structure ...   \n",
       "3         US  Slightly reduced, this wine offers a chalky, t...   \n",
       "4  Argentina  Baked plum, molasses, balsamic vinegar and che...   \n",
       "5  Argentina  Raw black-cherry aromas are direct and simple ...   \n",
       "6      Spain  Desiccated blackberry, leather, charred wood a...   \n",
       "7         US  Red fruit aromas pervade on the nose, with cig...   \n",
       "8         US  Ripe aromas of dark berries mingle with ample ...   \n",
       "9         US  A sleek mix of tart berry, stem and herb, alon...   \n",
       "\n",
       "                                         designation  points  price  \\\n",
       "0                                           Avidagos      87   15.0   \n",
       "1                 Vintner's Reserve Wild Child Block      87   65.0   \n",
       "2                                     Mountain Cuvée      87   19.0   \n",
       "3                                                NaN      87   34.0   \n",
       "4                                              Felix      87   30.0   \n",
       "5                                Winemaker Selection      87   13.0   \n",
       "6  Vendimia Seleccionada Finca Valdelayegua Singl...      87   28.0   \n",
       "7                                                NaN      87   32.0   \n",
       "8                                      Vin de Maison      87   23.0   \n",
       "9                                                NaN      87   20.0   \n",
       "\n",
       "           province           region_1           region_2         taster_name  \\\n",
       "0             Douro                NaN                NaN          Roger Voss   \n",
       "1            Oregon  Willamette Valley  Willamette Valley        Paul Gregutt   \n",
       "2        California        Napa Valley               Napa      Virginie Boone   \n",
       "3        California   Alexander Valley             Sonoma      Virginie Boone   \n",
       "4             Other           Cafayate                NaN   Michael Schachner   \n",
       "5  Mendoza Province            Mendoza                NaN   Michael Schachner   \n",
       "6    Northern Spain   Ribera del Duero                NaN   Michael Schachner   \n",
       "7          Virginia           Virginia                NaN  Alexander Peartree   \n",
       "8          Virginia           Virginia                NaN  Alexander Peartree   \n",
       "9            Oregon             Oregon       Oregon Other        Paul Gregutt   \n",
       "\n",
       "                                               title             variety  \\\n",
       "0      Quinta dos Avidagos 2011 Avidagos Red (Douro)      Portuguese Red   \n",
       "1  Sweet Cheeks 2012 Vintner's Reserve Wild Child...          Pinot Noir   \n",
       "2  Kirkland Signature 2011 Mountain Cuvée Caberne...  Cabernet Sauvignon   \n",
       "3  Louis M. Martini 2012 Cabernet Sauvignon (Alex...  Cabernet Sauvignon   \n",
       "4         Felix Lavaque 2010 Felix Malbec (Cafayate)              Malbec   \n",
       "5  Gaucho Andino 2011 Winemaker Selection Malbec ...              Malbec   \n",
       "6  Pradorey 2010 Vendimia Seleccionada Finca Vald...   Tempranillo Blend   \n",
       "7               Quiévremont 2012 Meritage (Virginia)            Meritage   \n",
       "8      Quiévremont 2012 Vin de Maison Red (Virginia)           Red Blend   \n",
       "9                   Acrobat 2013 Pinot Noir (Oregon)          Pinot Noir   \n",
       "\n",
       "                winery     freq   c_freq  red  rose  white  sparkling  \\\n",
       "0  Quinta dos Avidagos   2466.0   4856.0  1.0   0.0    0.0        0.0   \n",
       "1         Sweet Cheeks  13272.0  52329.0  1.0   0.0    0.0        0.0   \n",
       "2   Kirkland Signature   9472.0  52329.0  1.0   0.0    0.0        0.0   \n",
       "3     Louis M. Martini   9472.0  52329.0  1.0   0.0    0.0        0.0   \n",
       "4        Felix Lavaque   2652.0   3502.0  1.0   0.0    0.0        0.0   \n",
       "5        Gaucho Andino   2652.0   3502.0  1.0   0.0    0.0        0.0   \n",
       "6             Pradorey    588.0   5014.0  1.0   0.0    0.0        0.0   \n",
       "7          Quiévremont    260.0  52329.0  1.0   0.0    0.0        0.0   \n",
       "8          Quiévremont   8946.0  52329.0  1.0   0.0    0.0        0.0   \n",
       "9              Acrobat  13272.0  52329.0  1.0   0.0    0.0        0.0   \n",
       "\n",
       "     red_flavor_categories  \n",
       "0          light and fuity  \n",
       "1  medium bodied/ balanced  \n",
       "2          light and fuity  \n",
       "3  medium bodied/ balanced  \n",
       "4  medium bodied/ balanced  \n",
       "5   full bodied and robust  \n",
       "6   full bodied and robust  \n",
       "7  medium bodied/ balanced  \n",
       "8          light and fuity  \n",
       "9                    other  "
      ]
     },
     "execution_count": 3,
     "metadata": {},
     "output_type": "execute_result"
    }
   ],
   "source": [
    "df.head(10)"
   ]
  },
  {
   "cell_type": "code",
   "execution_count": 4,
   "metadata": {},
   "outputs": [
    {
     "data": {
      "text/plain": [
       "(68776, 19)"
      ]
     },
     "execution_count": 4,
     "metadata": {},
     "output_type": "execute_result"
    }
   ],
   "source": [
    "df.shape"
   ]
  },
  {
   "cell_type": "code",
   "execution_count": 5,
   "metadata": {},
   "outputs": [
    {
     "data": {
      "text/plain": [
       "country                   object\n",
       "description               object\n",
       "designation               object\n",
       "points                     int64\n",
       "price                    float64\n",
       "province                  object\n",
       "region_1                  object\n",
       "region_2                  object\n",
       "taster_name               object\n",
       "title                     object\n",
       "variety                   object\n",
       "winery                    object\n",
       "freq                     float64\n",
       "c_freq                   float64\n",
       "red                      float64\n",
       "rose                     float64\n",
       "white                    float64\n",
       "sparkling                float64\n",
       "red_flavor_categories     object\n",
       "dtype: object"
      ]
     },
     "execution_count": 5,
     "metadata": {},
     "output_type": "execute_result"
    }
   ],
   "source": [
    "df.dtypes"
   ]
  },
  {
   "cell_type": "code",
   "execution_count": 6,
   "metadata": {},
   "outputs": [
    {
     "data": {
      "text/plain": [
       "27"
      ]
     },
     "execution_count": 6,
     "metadata": {},
     "output_type": "execute_result"
    }
   ],
   "source": [
    "df.country.nunique()"
   ]
  },
  {
   "cell_type": "code",
   "execution_count": 7,
   "metadata": {},
   "outputs": [],
   "source": [
    "# wine_types = []\n",
    "# white_wines = ['White', 'Chardonnay', 'Riesling', 'Pinot Grigio', 'Pinot Gris', 'Pinot Blanc', 'Blanc', 'Sauvignon Blanc', 'Gewurztraminer', 'Moscato', 'Muscat']\n",
    "# red_wines = ['Syrah', 'Shiraz', 'Merlot', 'Malbec', 'Cabernet sauvignon', 'Cabernet', 'sauvignon']\n",
    "# rose_wines = []\n",
    "\n",
    "# for name in df.variety:\n",
    "    \n",
    "#     for white_wine_type in white_wines:\n",
    "\n",
    "#         if white_wine_type.lower() in str(name).lower():\n",
    "\n",
    "#             wine_types.append(name)\n",
    "\n",
    "#         else:\n",
    "#             wine_types.append('other')\n",
    "\n",
    "            \n",
    "            \n",
    "# #             for red_wine_type in red_wines:\n",
    "            \n",
    "            \n",
    "# #                 if red_wine_type.lower() in str(name).lower():\n",
    "\n",
    "# #                     wine_types.append(name)\n",
    "\n",
    "# #                 else:\n",
    "\n",
    "# #                     wine_types.append('other')\n",
    "\n",
    "\n",
    "            \n",
    "\n",
    "        "
   ]
  },
  {
   "cell_type": "code",
   "execution_count": 8,
   "metadata": {},
   "outputs": [
    {
     "data": {
      "text/plain": [
       "Index(['country', 'description', 'designation', 'points', 'price', 'province',\n",
       "       'region_1', 'region_2', 'taster_name', 'title', 'variety', 'winery',\n",
       "       'freq', 'c_freq', 'red', 'rose', 'white', 'sparkling',\n",
       "       'red_flavor_categories'],\n",
       "      dtype='object')"
      ]
     },
     "execution_count": 8,
     "metadata": {},
     "output_type": "execute_result"
    }
   ],
   "source": [
    "df.columns"
   ]
  },
  {
   "cell_type": "code",
   "execution_count": 9,
   "metadata": {},
   "outputs": [],
   "source": [
    "feature_df = df[['country','price', 'red', 'rose', 'white', 'sparkling',\n",
    "       'red_flavor_categories']]"
   ]
  },
  {
   "cell_type": "code",
   "execution_count": 10,
   "metadata": {},
   "outputs": [
    {
     "data": {
      "text/plain": [
       "Index(['country', 'price', 'red', 'rose', 'white', 'sparkling',\n",
       "       'red_flavor_categories'],\n",
       "      dtype='object')"
      ]
     },
     "execution_count": 10,
     "metadata": {},
     "output_type": "execute_result"
    }
   ],
   "source": [
    "feature_df.columns"
   ]
  },
  {
   "cell_type": "code",
   "execution_count": 11,
   "metadata": {},
   "outputs": [
    {
     "data": {
      "text/html": [
       "<div>\n",
       "<style scoped>\n",
       "    .dataframe tbody tr th:only-of-type {\n",
       "        vertical-align: middle;\n",
       "    }\n",
       "\n",
       "    .dataframe tbody tr th {\n",
       "        vertical-align: top;\n",
       "    }\n",
       "\n",
       "    .dataframe thead th {\n",
       "        text-align: right;\n",
       "    }\n",
       "</style>\n",
       "<table border=\"1\" class=\"dataframe\">\n",
       "  <thead>\n",
       "    <tr style=\"text-align: right;\">\n",
       "      <th></th>\n",
       "      <th>country</th>\n",
       "      <th>price</th>\n",
       "      <th>red</th>\n",
       "      <th>rose</th>\n",
       "      <th>white</th>\n",
       "      <th>sparkling</th>\n",
       "      <th>red_flavor_categories</th>\n",
       "    </tr>\n",
       "  </thead>\n",
       "  <tbody>\n",
       "    <tr>\n",
       "      <th>0</th>\n",
       "      <td>Portugal</td>\n",
       "      <td>15.0</td>\n",
       "      <td>1.0</td>\n",
       "      <td>0.0</td>\n",
       "      <td>0.0</td>\n",
       "      <td>0.0</td>\n",
       "      <td>light and fuity</td>\n",
       "    </tr>\n",
       "    <tr>\n",
       "      <th>1</th>\n",
       "      <td>US</td>\n",
       "      <td>65.0</td>\n",
       "      <td>1.0</td>\n",
       "      <td>0.0</td>\n",
       "      <td>0.0</td>\n",
       "      <td>0.0</td>\n",
       "      <td>medium bodied/ balanced</td>\n",
       "    </tr>\n",
       "    <tr>\n",
       "      <th>2</th>\n",
       "      <td>US</td>\n",
       "      <td>19.0</td>\n",
       "      <td>1.0</td>\n",
       "      <td>0.0</td>\n",
       "      <td>0.0</td>\n",
       "      <td>0.0</td>\n",
       "      <td>light and fuity</td>\n",
       "    </tr>\n",
       "  </tbody>\n",
       "</table>\n",
       "</div>"
      ],
      "text/plain": [
       "    country  price  red  rose  white  sparkling    red_flavor_categories\n",
       "0  Portugal   15.0  1.0   0.0    0.0        0.0          light and fuity\n",
       "1        US   65.0  1.0   0.0    0.0        0.0  medium bodied/ balanced\n",
       "2        US   19.0  1.0   0.0    0.0        0.0          light and fuity"
      ]
     },
     "execution_count": 11,
     "metadata": {},
     "output_type": "execute_result"
    }
   ],
   "source": [
    "feature_df.head(3)"
   ]
  },
  {
   "cell_type": "code",
   "execution_count": 12,
   "metadata": {},
   "outputs": [
    {
     "name": "stderr",
     "output_type": "stream",
     "text": [
      "Using TensorFlow backend.\n"
     ]
    }
   ],
   "source": [
    "# Import dependencies\n",
    "import pandas as pd\n",
    "import numpy as np\n",
    "from sklearn.preprocessing import LabelEncoder, MinMaxScaler\n",
    "from sklearn.model_selection import train_test_split\n",
    "from keras.utils import to_categorical\n",
    "from xgboost.sklearn import XGBClassifier  \n",
    "import matplotlib.pyplot as plt\n",
    "import seaborn as sns\n",
    "%matplotlib inline"
   ]
  },
  {
   "cell_type": "code",
   "execution_count": 13,
   "metadata": {},
   "outputs": [
    {
     "data": {
      "text/html": [
       "<div>\n",
       "<style scoped>\n",
       "    .dataframe tbody tr th:only-of-type {\n",
       "        vertical-align: middle;\n",
       "    }\n",
       "\n",
       "    .dataframe tbody tr th {\n",
       "        vertical-align: top;\n",
       "    }\n",
       "\n",
       "    .dataframe thead th {\n",
       "        text-align: right;\n",
       "    }\n",
       "</style>\n",
       "<table border=\"1\" class=\"dataframe\">\n",
       "  <thead>\n",
       "    <tr style=\"text-align: right;\">\n",
       "      <th></th>\n",
       "      <th>price</th>\n",
       "      <th>red</th>\n",
       "      <th>rose</th>\n",
       "      <th>white</th>\n",
       "      <th>sparkling</th>\n",
       "      <th>country_Argentina</th>\n",
       "      <th>country_Australia</th>\n",
       "      <th>country_Austria</th>\n",
       "      <th>country_Brazil</th>\n",
       "      <th>country_Bulgaria</th>\n",
       "      <th>...</th>\n",
       "      <th>country_Slovenia</th>\n",
       "      <th>country_South Africa</th>\n",
       "      <th>country_Spain</th>\n",
       "      <th>country_Turkey</th>\n",
       "      <th>country_US</th>\n",
       "      <th>country_Uruguay</th>\n",
       "      <th>red_flavor_categories_full bodied and robust</th>\n",
       "      <th>red_flavor_categories_light and fuity</th>\n",
       "      <th>red_flavor_categories_medium bodied/ balanced</th>\n",
       "      <th>red_flavor_categories_other</th>\n",
       "    </tr>\n",
       "  </thead>\n",
       "  <tbody>\n",
       "    <tr>\n",
       "      <th>0</th>\n",
       "      <td>15.0</td>\n",
       "      <td>1.0</td>\n",
       "      <td>0.0</td>\n",
       "      <td>0.0</td>\n",
       "      <td>0.0</td>\n",
       "      <td>0</td>\n",
       "      <td>0</td>\n",
       "      <td>0</td>\n",
       "      <td>0</td>\n",
       "      <td>0</td>\n",
       "      <td>...</td>\n",
       "      <td>0</td>\n",
       "      <td>0</td>\n",
       "      <td>0</td>\n",
       "      <td>0</td>\n",
       "      <td>0</td>\n",
       "      <td>0</td>\n",
       "      <td>0</td>\n",
       "      <td>1</td>\n",
       "      <td>0</td>\n",
       "      <td>0</td>\n",
       "    </tr>\n",
       "    <tr>\n",
       "      <th>1</th>\n",
       "      <td>65.0</td>\n",
       "      <td>1.0</td>\n",
       "      <td>0.0</td>\n",
       "      <td>0.0</td>\n",
       "      <td>0.0</td>\n",
       "      <td>0</td>\n",
       "      <td>0</td>\n",
       "      <td>0</td>\n",
       "      <td>0</td>\n",
       "      <td>0</td>\n",
       "      <td>...</td>\n",
       "      <td>0</td>\n",
       "      <td>0</td>\n",
       "      <td>0</td>\n",
       "      <td>0</td>\n",
       "      <td>1</td>\n",
       "      <td>0</td>\n",
       "      <td>0</td>\n",
       "      <td>0</td>\n",
       "      <td>1</td>\n",
       "      <td>0</td>\n",
       "    </tr>\n",
       "    <tr>\n",
       "      <th>2</th>\n",
       "      <td>19.0</td>\n",
       "      <td>1.0</td>\n",
       "      <td>0.0</td>\n",
       "      <td>0.0</td>\n",
       "      <td>0.0</td>\n",
       "      <td>0</td>\n",
       "      <td>0</td>\n",
       "      <td>0</td>\n",
       "      <td>0</td>\n",
       "      <td>0</td>\n",
       "      <td>...</td>\n",
       "      <td>0</td>\n",
       "      <td>0</td>\n",
       "      <td>0</td>\n",
       "      <td>0</td>\n",
       "      <td>1</td>\n",
       "      <td>0</td>\n",
       "      <td>0</td>\n",
       "      <td>1</td>\n",
       "      <td>0</td>\n",
       "      <td>0</td>\n",
       "    </tr>\n",
       "    <tr>\n",
       "      <th>3</th>\n",
       "      <td>34.0</td>\n",
       "      <td>1.0</td>\n",
       "      <td>0.0</td>\n",
       "      <td>0.0</td>\n",
       "      <td>0.0</td>\n",
       "      <td>0</td>\n",
       "      <td>0</td>\n",
       "      <td>0</td>\n",
       "      <td>0</td>\n",
       "      <td>0</td>\n",
       "      <td>...</td>\n",
       "      <td>0</td>\n",
       "      <td>0</td>\n",
       "      <td>0</td>\n",
       "      <td>0</td>\n",
       "      <td>1</td>\n",
       "      <td>0</td>\n",
       "      <td>0</td>\n",
       "      <td>0</td>\n",
       "      <td>1</td>\n",
       "      <td>0</td>\n",
       "    </tr>\n",
       "    <tr>\n",
       "      <th>4</th>\n",
       "      <td>30.0</td>\n",
       "      <td>1.0</td>\n",
       "      <td>0.0</td>\n",
       "      <td>0.0</td>\n",
       "      <td>0.0</td>\n",
       "      <td>1</td>\n",
       "      <td>0</td>\n",
       "      <td>0</td>\n",
       "      <td>0</td>\n",
       "      <td>0</td>\n",
       "      <td>...</td>\n",
       "      <td>0</td>\n",
       "      <td>0</td>\n",
       "      <td>0</td>\n",
       "      <td>0</td>\n",
       "      <td>0</td>\n",
       "      <td>0</td>\n",
       "      <td>0</td>\n",
       "      <td>0</td>\n",
       "      <td>1</td>\n",
       "      <td>0</td>\n",
       "    </tr>\n",
       "  </tbody>\n",
       "</table>\n",
       "<p>5 rows × 36 columns</p>\n",
       "</div>"
      ],
      "text/plain": [
       "   price  red  rose  white  sparkling  country_Argentina  country_Australia  \\\n",
       "0   15.0  1.0   0.0    0.0        0.0                  0                  0   \n",
       "1   65.0  1.0   0.0    0.0        0.0                  0                  0   \n",
       "2   19.0  1.0   0.0    0.0        0.0                  0                  0   \n",
       "3   34.0  1.0   0.0    0.0        0.0                  0                  0   \n",
       "4   30.0  1.0   0.0    0.0        0.0                  1                  0   \n",
       "\n",
       "   country_Austria  country_Brazil  country_Bulgaria  ...  country_Slovenia  \\\n",
       "0                0               0                 0  ...                 0   \n",
       "1                0               0                 0  ...                 0   \n",
       "2                0               0                 0  ...                 0   \n",
       "3                0               0                 0  ...                 0   \n",
       "4                0               0                 0  ...                 0   \n",
       "\n",
       "   country_South Africa  country_Spain  country_Turkey  country_US  \\\n",
       "0                     0              0               0           0   \n",
       "1                     0              0               0           1   \n",
       "2                     0              0               0           1   \n",
       "3                     0              0               0           1   \n",
       "4                     0              0               0           0   \n",
       "\n",
       "   country_Uruguay  red_flavor_categories_full bodied and robust  \\\n",
       "0                0                                             0   \n",
       "1                0                                             0   \n",
       "2                0                                             0   \n",
       "3                0                                             0   \n",
       "4                0                                             0   \n",
       "\n",
       "   red_flavor_categories_light and fuity  \\\n",
       "0                                      1   \n",
       "1                                      0   \n",
       "2                                      1   \n",
       "3                                      0   \n",
       "4                                      0   \n",
       "\n",
       "   red_flavor_categories_medium bodied/ balanced  red_flavor_categories_other  \n",
       "0                                              0                            0  \n",
       "1                                              1                            0  \n",
       "2                                              0                            0  \n",
       "3                                              1                            0  \n",
       "4                                              1                            0  \n",
       "\n",
       "[5 rows x 36 columns]"
      ]
     },
     "execution_count": 13,
     "metadata": {},
     "output_type": "execute_result"
    }
   ],
   "source": [
    "# Encode the target for the train and test set so it can be fed into our NN and conver to a vector and check it\n",
    "data = feature_df.copy()\n",
    "\n",
    "data_binary_encoded = pd.get_dummies(data, columns=[\"country\", \"red_flavor_categories\"])\n",
    "data_binary_encoded.head()"
   ]
  },
  {
   "cell_type": "code",
   "execution_count": 14,
   "metadata": {},
   "outputs": [
    {
     "data": {
      "text/plain": [
       "price                                            float64\n",
       "red                                              float64\n",
       "rose                                             float64\n",
       "white                                            float64\n",
       "sparkling                                        float64\n",
       "country_Argentina                                  uint8\n",
       "country_Australia                                  uint8\n",
       "country_Austria                                    uint8\n",
       "country_Brazil                                     uint8\n",
       "country_Bulgaria                                   uint8\n",
       "country_Canada                                     uint8\n",
       "country_Chile                                      uint8\n",
       "country_England                                    uint8\n",
       "country_France                                     uint8\n",
       "country_Germany                                    uint8\n",
       "country_Greece                                     uint8\n",
       "country_Hungary                                    uint8\n",
       "country_Israel                                     uint8\n",
       "country_Italy                                      uint8\n",
       "country_Lebanon                                    uint8\n",
       "country_Mexico                                     uint8\n",
       "country_Moldova                                    uint8\n",
       "country_Morocco                                    uint8\n",
       "country_New Zealand                                uint8\n",
       "country_Portugal                                   uint8\n",
       "country_Romania                                    uint8\n",
       "country_Slovenia                                   uint8\n",
       "country_South Africa                               uint8\n",
       "country_Spain                                      uint8\n",
       "country_Turkey                                     uint8\n",
       "country_US                                         uint8\n",
       "country_Uruguay                                    uint8\n",
       "red_flavor_categories_full bodied and robust       uint8\n",
       "red_flavor_categories_light and fuity              uint8\n",
       "red_flavor_categories_medium bodied/ balanced      uint8\n",
       "red_flavor_categories_other                        uint8\n",
       "dtype: object"
      ]
     },
     "execution_count": 14,
     "metadata": {},
     "output_type": "execute_result"
    }
   ],
   "source": [
    "data_binary_encoded.dtypes"
   ]
  },
  {
   "cell_type": "code",
   "execution_count": 15,
   "metadata": {},
   "outputs": [
    {
     "data": {
      "text/plain": [
       "68776"
      ]
     },
     "execution_count": 15,
     "metadata": {},
     "output_type": "execute_result"
    }
   ],
   "source": [
    "len(data_binary_encoded)"
   ]
  },
  {
   "cell_type": "code",
   "execution_count": 17,
   "metadata": {},
   "outputs": [],
   "source": [
    "final_targets_df = df['points']\n",
    "\n",
    "final_features_df = data_binary_encoded"
   ]
  },
  {
   "cell_type": "code",
   "execution_count": 18,
   "metadata": {},
   "outputs": [
    {
     "name": "stdout",
     "output_type": "stream",
     "text": [
      "68776 68776\n"
     ]
    }
   ],
   "source": [
    "print(len(final_targets_df), len(final_features_df))"
   ]
  },
  {
   "cell_type": "code",
   "execution_count": 19,
   "metadata": {},
   "outputs": [
    {
     "name": "stdout",
     "output_type": "stream",
     "text": [
      "(68776,) (68776, 36)\n"
     ]
    }
   ],
   "source": [
    "print(final_targets_df.shape, final_features_df.shape)"
   ]
  },
  {
   "cell_type": "code",
   "execution_count": 20,
   "metadata": {},
   "outputs": [],
   "source": [
    "raw_features = final_features_df.values\n",
    "\n",
    "raw_target = final_targets_df.values"
   ]
  },
  {
   "cell_type": "code",
   "execution_count": 21,
   "metadata": {},
   "outputs": [],
   "source": [
    "X = raw_features[:, 0:36]\n",
    "\n",
    "y = raw_target.reshape(-1, 1)"
   ]
  },
  {
   "cell_type": "code",
   "execution_count": 22,
   "metadata": {},
   "outputs": [
    {
     "data": {
      "text/plain": [
       "(68776, 36)"
      ]
     },
     "execution_count": 22,
     "metadata": {},
     "output_type": "execute_result"
    }
   ],
   "source": [
    "X.shape"
   ]
  },
  {
   "cell_type": "code",
   "execution_count": 23,
   "metadata": {},
   "outputs": [
    {
     "data": {
      "text/plain": [
       "(68776, 1)"
      ]
     },
     "execution_count": 23,
     "metadata": {},
     "output_type": "execute_result"
    }
   ],
   "source": [
    "y.shape"
   ]
  },
  {
   "cell_type": "code",
   "execution_count": 24,
   "metadata": {},
   "outputs": [],
   "source": [
    "# Create the train and test sets for the features and target\n",
    "X_train, X_test, y_train, y_test = train_test_split(X, y, random_state=42)"
   ]
  },
  {
   "cell_type": "code",
   "execution_count": 25,
   "metadata": {},
   "outputs": [],
   "source": [
    "# Scale the features using the MinMax scaler since we know their values\n",
    "from sklearn.preprocessing import LabelEncoder, MinMaxScaler\n",
    "\n",
    "X_scaler = MinMaxScaler().fit(X_train)\n",
    "X_train_scaled = X_scaler.transform(X_train)\n",
    "X_test_scaled = X_scaler.transform(X_test)\n",
    "\n",
    "y_scaler = MinMaxScaler().fit(y_train)\n",
    "y_train_scaled = y_scaler.transform(y_train)\n",
    "y_test_scaled = y_scaler.transform(y_test)"
   ]
  },
  {
   "cell_type": "code",
   "execution_count": 26,
   "metadata": {},
   "outputs": [
    {
     "name": "stdout",
     "output_type": "stream",
     "text": [
      "[09:06:34] WARNING: C:/Jenkins/workspace/xgboost-win64_release_0.90/src/objective/regression_obj.cu:152: reg:linear is now deprecated in favor of reg:squarederror.\n"
     ]
    },
    {
     "data": {
      "text/plain": [
       "XGBRegressor(base_score=0.5, booster='gbtree', colsample_bylevel=1,\n",
       "             colsample_bynode=1, colsample_bytree=1, gamma=0,\n",
       "             importance_type='gain', learning_rate=0.1, max_delta_step=0,\n",
       "             max_depth=3, min_child_weight=1, missing=None, n_estimators=300,\n",
       "             n_jobs=-1, nthread=None, objective='reg:linear', random_state=0,\n",
       "             reg_alpha=0, reg_lambda=1, scale_pos_weight=1, seed=None,\n",
       "             silent=None, subsample=1, verbose=2, verbosity=1)"
      ]
     },
     "execution_count": 26,
     "metadata": {},
     "output_type": "execute_result"
    }
   ],
   "source": [
    "# Create and fit XGB gradient boosting model to start the automated feature selection\n",
    "from xgboost.sklearn import XGBRegressor\n",
    "\n",
    "feature_selection_model = XGBRegressor(n_estimators=300, n_jobs=-1,verbose=2)\n",
    "\n",
    "feature_selection_model.fit(X_train_scaled, y_train_scaled)"
   ]
  },
  {
   "cell_type": "code",
   "execution_count": 27,
   "metadata": {},
   "outputs": [
    {
     "data": {
      "text/plain": [
       "36"
      ]
     },
     "execution_count": 27,
     "metadata": {},
     "output_type": "execute_result"
    }
   ],
   "source": [
    "# Run the feature importance function of the XGB Classifier to rank our features\n",
    "feature_importance = feature_selection_model.feature_importances_\n",
    "\n",
    "len(feature_importance)"
   ]
  },
  {
   "cell_type": "code",
   "execution_count": 28,
   "metadata": {},
   "outputs": [
    {
     "data": {
      "text/plain": [
       "array([3.9716142e-01, 0.0000000e+00, 0.0000000e+00, 0.0000000e+00,\n",
       "       0.0000000e+00, 3.5068858e-02, 2.7029863e-02, 2.0288991e-02,\n",
       "       1.1411998e-02, 1.7913483e-02, 3.1702209e-03, 9.1060074e-03,\n",
       "       1.9047552e-03, 3.2449666e-02, 7.0620081e-03, 5.7036136e-03,\n",
       "       5.0564739e-03, 5.4277494e-03, 3.2509238e-02, 1.4065714e-03,\n",
       "       1.4037801e-02, 2.0119918e-03, 3.8938953e-03, 1.6456741e-03,\n",
       "       1.4279474e-01, 5.3187199e-03, 2.7063623e-04, 4.5545106e-03,\n",
       "       1.6173638e-02, 6.0468784e-04, 1.2100588e-01, 4.0284181e-03,\n",
       "       3.5772494e-03, 4.7297619e-02, 1.7881155e-02, 2.2324447e-03],\n",
       "      dtype=float32)"
      ]
     },
     "execution_count": 28,
     "metadata": {},
     "output_type": "execute_result"
    }
   ],
   "source": [
    "feature_importance"
   ]
  },
  {
   "cell_type": "code",
   "execution_count": 29,
   "metadata": {},
   "outputs": [
    {
     "data": {
      "text/plain": [
       "36"
      ]
     },
     "execution_count": 29,
     "metadata": {},
     "output_type": "execute_result"
    }
   ],
   "source": [
    "# Create a list of the reature names to use below in our charting and check lenghth \n",
    "feature_names = final_features_df.columns.tolist()\n",
    "\n",
    "\n",
    "\n",
    "len(feature_names)"
   ]
  },
  {
   "cell_type": "code",
   "execution_count": 30,
   "metadata": {},
   "outputs": [
    {
     "data": {
      "text/plain": [
       "['price',\n",
       " 'red',\n",
       " 'rose',\n",
       " 'white',\n",
       " 'sparkling',\n",
       " 'country_Argentina',\n",
       " 'country_Australia',\n",
       " 'country_Austria',\n",
       " 'country_Brazil',\n",
       " 'country_Bulgaria',\n",
       " 'country_Canada',\n",
       " 'country_Chile',\n",
       " 'country_England',\n",
       " 'country_France',\n",
       " 'country_Germany',\n",
       " 'country_Greece',\n",
       " 'country_Hungary',\n",
       " 'country_Israel',\n",
       " 'country_Italy',\n",
       " 'country_Lebanon',\n",
       " 'country_Mexico',\n",
       " 'country_Moldova',\n",
       " 'country_Morocco',\n",
       " 'country_New Zealand',\n",
       " 'country_Portugal',\n",
       " 'country_Romania',\n",
       " 'country_Slovenia',\n",
       " 'country_South Africa',\n",
       " 'country_Spain',\n",
       " 'country_Turkey',\n",
       " 'country_US',\n",
       " 'country_Uruguay',\n",
       " 'red_flavor_categories_full bodied and robust',\n",
       " 'red_flavor_categories_light and fuity',\n",
       " 'red_flavor_categories_medium bodied/ balanced',\n",
       " 'red_flavor_categories_other']"
      ]
     },
     "execution_count": 30,
     "metadata": {},
     "output_type": "execute_result"
    }
   ],
   "source": [
    "# Check list\n",
    "feature_names"
   ]
  },
  {
   "cell_type": "code",
   "execution_count": 31,
   "metadata": {},
   "outputs": [],
   "source": [
    "# plt.bar(range(len(feature_selection_model.feature_importances_)), feature_selection_model.feature_importances_)\n",
    "# plt.show()"
   ]
  },
  {
   "cell_type": "code",
   "execution_count": 32,
   "metadata": {},
   "outputs": [],
   "source": [
    "# from xgboost import plot_importance\n",
    "\n",
    "\n",
    "# plot_importance(feature_selection_model)\n",
    "\n",
    "# plt.show()"
   ]
  },
  {
   "cell_type": "code",
   "execution_count": null,
   "metadata": {},
   "outputs": [],
   "source": []
  },
  {
   "cell_type": "code",
   "execution_count": 33,
   "metadata": {},
   "outputs": [
    {
     "data": {
      "image/png": "[encoded data removed]",
      "text/plain": [
       "<Figure size 1152x432 with 1 Axes>"
      ]
     },
     "metadata": {
      "needs_background": "light"
     },
     "output_type": "display_data"
    }
   ],
   "source": [
    "# Plot the figire and inspect the top features\n",
    "plt.figure(figsize=(16, 6))\n",
    "plt.yscale('log', nonposy='clip')\n",
    "plt.bar(range(len(feature_importance)), feature_importance, align='center')\n",
    "plt.xticks(range(len(feature_importance)), feature_names, rotation='vertical')\n",
    "plt.title('Feature importance')\n",
    "plt.ylabel('Importance')\n",
    "plt.xlabel('Features')\n",
    "plt.show()"
   ]
  },
  {
   "cell_type": "code",
   "execution_count": null,
   "metadata": {},
   "outputs": [],
   "source": []
  },
  {
   "cell_type": "code",
   "execution_count": null,
   "metadata": {},
   "outputs": [],
   "source": []
  },
  {
   "cell_type": "code",
   "execution_count": 35,
   "metadata": {},
   "outputs": [
    {
     "data": {
      "text/plain": [
       "Index(['price', 'red', 'rose', 'white', 'sparkling', 'country_Argentina',\n",
       "       'country_Australia', 'country_Austria', 'country_Brazil',\n",
       "       'country_Bulgaria', 'country_Canada', 'country_Chile',\n",
       "       'country_England', 'country_France', 'country_Germany',\n",
       "       'country_Greece', 'country_Hungary', 'country_Israel', 'country_Italy',\n",
       "       'country_Lebanon', 'country_Mexico', 'country_Moldova',\n",
       "       'country_Morocco', 'country_New Zealand', 'country_Portugal',\n",
       "       'country_Romania', 'country_Slovenia', 'country_South Africa',\n",
       "       'country_Spain', 'country_Turkey', 'country_US', 'country_Uruguay',\n",
       "       'red_flavor_categories_full bodied and robust',\n",
       "       'red_flavor_categories_light and fuity',\n",
       "       'red_flavor_categories_medium bodied/ balanced',\n",
       "       'red_flavor_categories_other'],\n",
       "      dtype='object')"
      ]
     },
     "execution_count": 35,
     "metadata": {},
     "output_type": "execute_result"
    }
   ],
   "source": [
    "final_features_df.columns"
   ]
  },
  {
   "cell_type": "code",
   "execution_count": 36,
   "metadata": {},
   "outputs": [
    {
     "data": {
      "text/html": [
       "<div>\n",
       "<style scoped>\n",
       "    .dataframe tbody tr th:only-of-type {\n",
       "        vertical-align: middle;\n",
       "    }\n",
       "\n",
       "    .dataframe tbody tr th {\n",
       "        vertical-align: top;\n",
       "    }\n",
       "\n",
       "    .dataframe thead th {\n",
       "        text-align: right;\n",
       "    }\n",
       "</style>\n",
       "<table border=\"1\" class=\"dataframe\">\n",
       "  <thead>\n",
       "    <tr style=\"text-align: right;\">\n",
       "      <th></th>\n",
       "      <th>price</th>\n",
       "      <th>country_Portugal</th>\n",
       "      <th>country_US</th>\n",
       "      <th>red_flavor_categories_light and fuity</th>\n",
       "    </tr>\n",
       "  </thead>\n",
       "  <tbody>\n",
       "    <tr>\n",
       "      <th>0</th>\n",
       "      <td>15.0</td>\n",
       "      <td>1</td>\n",
       "      <td>0</td>\n",
       "      <td>1</td>\n",
       "    </tr>\n",
       "    <tr>\n",
       "      <th>1</th>\n",
       "      <td>65.0</td>\n",
       "      <td>0</td>\n",
       "      <td>1</td>\n",
       "      <td>0</td>\n",
       "    </tr>\n",
       "    <tr>\n",
       "      <th>2</th>\n",
       "      <td>19.0</td>\n",
       "      <td>0</td>\n",
       "      <td>1</td>\n",
       "      <td>1</td>\n",
       "    </tr>\n",
       "    <tr>\n",
       "      <th>3</th>\n",
       "      <td>34.0</td>\n",
       "      <td>0</td>\n",
       "      <td>1</td>\n",
       "      <td>0</td>\n",
       "    </tr>\n",
       "    <tr>\n",
       "      <th>4</th>\n",
       "      <td>30.0</td>\n",
       "      <td>0</td>\n",
       "      <td>0</td>\n",
       "      <td>0</td>\n",
       "    </tr>\n",
       "  </tbody>\n",
       "</table>\n",
       "</div>"
      ],
      "text/plain": [
       "   price  country_Portugal  country_US  red_flavor_categories_light and fuity\n",
       "0   15.0                 1           0                                      1\n",
       "1   65.0                 0           1                                      0\n",
       "2   19.0                 0           1                                      1\n",
       "3   34.0                 0           1                                      0\n",
       "4   30.0                 0           0                                      0"
      ]
     },
     "execution_count": 36,
     "metadata": {},
     "output_type": "execute_result"
    }
   ],
   "source": [
    "# Create df for correlation matrix to see which variable are most corrleated to the koi_disposition target\n",
    "top_features_df = final_features_df[['price', 'country_Portugal', 'country_US', 'red_flavor_categories_light and fuity']]\n",
    "\n",
    "top_features_df.head()"
   ]
  },
  {
   "cell_type": "code",
   "execution_count": 38,
   "metadata": {},
   "outputs": [
    {
     "data": {
      "text/html": [
       "<div>\n",
       "<style scoped>\n",
       "    .dataframe tbody tr th:only-of-type {\n",
       "        vertical-align: middle;\n",
       "    }\n",
       "\n",
       "    .dataframe tbody tr th {\n",
       "        vertical-align: top;\n",
       "    }\n",
       "\n",
       "    .dataframe thead th {\n",
       "        text-align: right;\n",
       "    }\n",
       "</style>\n",
       "<table border=\"1\" class=\"dataframe\">\n",
       "  <thead>\n",
       "    <tr style=\"text-align: right;\">\n",
       "      <th></th>\n",
       "      <th>price</th>\n",
       "      <th>country_Portugal</th>\n",
       "      <th>country_US</th>\n",
       "      <th>red_flavor_categories_light and fuity</th>\n",
       "    </tr>\n",
       "  </thead>\n",
       "  <tbody>\n",
       "    <tr>\n",
       "      <th>price</th>\n",
       "      <td>NaN</td>\n",
       "      <td>-0.041909</td>\n",
       "      <td>0.029568</td>\n",
       "      <td>-0.072351</td>\n",
       "    </tr>\n",
       "    <tr>\n",
       "      <th>country_Portugal</th>\n",
       "      <td>NaN</td>\n",
       "      <td>NaN</td>\n",
       "      <td>-0.217850</td>\n",
       "      <td>0.011987</td>\n",
       "    </tr>\n",
       "    <tr>\n",
       "      <th>country_US</th>\n",
       "      <td>NaN</td>\n",
       "      <td>NaN</td>\n",
       "      <td>NaN</td>\n",
       "      <td>-0.033763</td>\n",
       "    </tr>\n",
       "    <tr>\n",
       "      <th>red_flavor_categories_light and fuity</th>\n",
       "      <td>NaN</td>\n",
       "      <td>NaN</td>\n",
       "      <td>NaN</td>\n",
       "      <td>NaN</td>\n",
       "    </tr>\n",
       "  </tbody>\n",
       "</table>\n",
       "</div>"
      ],
      "text/plain": [
       "                                       price  country_Portugal  country_US  \\\n",
       "price                                    NaN         -0.041909    0.029568   \n",
       "country_Portugal                         NaN               NaN   -0.217850   \n",
       "country_US                               NaN               NaN         NaN   \n",
       "red_flavor_categories_light and fuity    NaN               NaN         NaN   \n",
       "\n",
       "                                       red_flavor_categories_light and fuity  \n",
       "price                                                              -0.072351  \n",
       "country_Portugal                                                    0.011987  \n",
       "country_US                                                         -0.033763  \n",
       "red_flavor_categories_light and fuity                                    NaN  "
      ]
     },
     "execution_count": 38,
     "metadata": {},
     "output_type": "execute_result"
    }
   ],
   "source": [
    "# Create base correlation matrix\n",
    "corr_matrix = top_features_df.corr()\n",
    "\n",
    "# Select upper triangle of correlation matrix so that I only cmpare features to other features\n",
    "upper = corr_matrix.where(np.triu(np.ones(corr_matrix.shape), k=1).astype(np.bool))\n",
    "\n",
    "upper"
   ]
  },
  {
   "cell_type": "code",
   "execution_count": null,
   "metadata": {},
   "outputs": [],
   "source": []
  },
  {
   "cell_type": "code",
   "execution_count": 39,
   "metadata": {},
   "outputs": [],
   "source": [
    "top_features_df.to_csv(r'C:\\Users\\howar\\Desktop\\Data Science Boot Camp\\Group_Project_3\\Group_Project_3\\prediction_modeling\\output\\reduced_wine_features.csv', index=False)"
   ]
  },
  {
   "cell_type": "code",
   "execution_count": 40,
   "metadata": {},
   "outputs": [
    {
     "data": {
      "text/html": [
       "<div>\n",
       "<style scoped>\n",
       "    .dataframe tbody tr th:only-of-type {\n",
       "        vertical-align: middle;\n",
       "    }\n",
       "\n",
       "    .dataframe tbody tr th {\n",
       "        vertical-align: top;\n",
       "    }\n",
       "\n",
       "    .dataframe thead th {\n",
       "        text-align: right;\n",
       "    }\n",
       "</style>\n",
       "<table border=\"1\" class=\"dataframe\">\n",
       "  <thead>\n",
       "    <tr style=\"text-align: right;\">\n",
       "      <th></th>\n",
       "      <th>points</th>\n",
       "    </tr>\n",
       "  </thead>\n",
       "  <tbody>\n",
       "    <tr>\n",
       "      <th>0</th>\n",
       "      <td>87</td>\n",
       "    </tr>\n",
       "    <tr>\n",
       "      <th>1</th>\n",
       "      <td>87</td>\n",
       "    </tr>\n",
       "    <tr>\n",
       "      <th>2</th>\n",
       "      <td>87</td>\n",
       "    </tr>\n",
       "    <tr>\n",
       "      <th>3</th>\n",
       "      <td>87</td>\n",
       "    </tr>\n",
       "    <tr>\n",
       "      <th>4</th>\n",
       "      <td>87</td>\n",
       "    </tr>\n",
       "  </tbody>\n",
       "</table>\n",
       "</div>"
      ],
      "text/plain": [
       "   points\n",
       "0      87\n",
       "1      87\n",
       "2      87\n",
       "3      87\n",
       "4      87"
      ]
     },
     "execution_count": 40,
     "metadata": {},
     "output_type": "execute_result"
    }
   ],
   "source": [
    "final_targets_df = pd.DataFrame(final_targets_df)\n",
    "\n",
    "final_targets_df.head()"
   ]
  },
  {
   "cell_type": "code",
   "execution_count": 41,
   "metadata": {},
   "outputs": [],
   "source": [
    "final_targets_df.to_csv(r'C:\\Users\\howar\\Desktop\\Data Science Boot Camp\\Group_Project_3\\Group_Project_3\\prediction_modeling\\output\\reduced_wine_targets.csv', index=False)"
   ]
  },
  {
   "cell_type": "code",
   "execution_count": null,
   "metadata": {},
   "outputs": [],
   "source": []
  },
  {
   "cell_type": "code",
   "execution_count": null,
   "metadata": {},
   "outputs": [],
   "source": []
  },
  {
   "cell_type": "code",
   "execution_count": null,
   "metadata": {},
   "outputs": [],
   "source": []
  },
  {
   "cell_type": "code",
   "execution_count": null,
   "metadata": {},
   "outputs": [],
   "source": []
  }
 ],
 "metadata": {
  "kernelspec": {
   "display_name": "Python [conda env:PythonData] *",
   "language": "python",
   "name": "conda-env-PythonData-py"
  },
  "language_info": {
   "codemirror_mode": {
    "name": "ipython",
    "version": 3
   },
   "file_extension": ".py",
   "mimetype": "text/x-python",
   "name": "python",
   "nbconvert_exporter": "python",
   "pygments_lexer": "ipython3",
   "version": "3.6.8"
  }
 },
 "nbformat": 4,
 "nbformat_minor": 2
}
