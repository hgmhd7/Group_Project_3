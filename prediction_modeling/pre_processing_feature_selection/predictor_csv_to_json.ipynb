{
 "cells": [
  {
   "cell_type": "code",
   "execution_count": 1,
   "metadata": {},
   "outputs": [],
   "source": [
    "# Import pandas\n",
    "import pandas as pd"
   ]
  },
  {
   "cell_type": "code",
   "execution_count": 2,
   "metadata": {},
   "outputs": [],
   "source": [
    "master_df = pd.read_csv('../../data/recommender_table.csv')"
   ]
  },
  {
   "cell_type": "code",
   "execution_count": 3,
   "metadata": {},
   "outputs": [
    {
     "data": {
      "text/html": [
       "<div>\n",
       "<style scoped>\n",
       "    .dataframe tbody tr th:only-of-type {\n",
       "        vertical-align: middle;\n",
       "    }\n",
       "\n",
       "    .dataframe tbody tr th {\n",
       "        vertical-align: top;\n",
       "    }\n",
       "\n",
       "    .dataframe thead th {\n",
       "        text-align: right;\n",
       "    }\n",
       "</style>\n",
       "<table border=\"1\" class=\"dataframe\">\n",
       "  <thead>\n",
       "    <tr style=\"text-align: right;\">\n",
       "      <th></th>\n",
       "      <th>title</th>\n",
       "      <th>country</th>\n",
       "      <th>points</th>\n",
       "      <th>price</th>\n",
       "      <th>province</th>\n",
       "      <th>variety</th>\n",
       "      <th>category</th>\n",
       "      <th>flavor_categories_taste_notes</th>\n",
       "    </tr>\n",
       "  </thead>\n",
       "  <tbody>\n",
       "    <tr>\n",
       "      <th>0</th>\n",
       "      <td>Quinta dos Avidagos 2011 Avidagos Red (Douro)</td>\n",
       "      <td>Portugal</td>\n",
       "      <td>87</td>\n",
       "      <td>15</td>\n",
       "      <td>Douro</td>\n",
       "      <td>Portuguese Red</td>\n",
       "      <td>red</td>\n",
       "      <td>light, fruity</td>\n",
       "    </tr>\n",
       "    <tr>\n",
       "      <th>1</th>\n",
       "      <td>Sweet Cheeks 2012 Vintner's Reserve Wild Child...</td>\n",
       "      <td>US</td>\n",
       "      <td>87</td>\n",
       "      <td>65</td>\n",
       "      <td>Oregon</td>\n",
       "      <td>Pinot Noir</td>\n",
       "      <td>red</td>\n",
       "      <td>medium bodied, balanced</td>\n",
       "    </tr>\n",
       "    <tr>\n",
       "      <th>2</th>\n",
       "      <td>Kirkland Signature 2011 Mountain Cuvée Caberne...</td>\n",
       "      <td>US</td>\n",
       "      <td>87</td>\n",
       "      <td>19</td>\n",
       "      <td>California</td>\n",
       "      <td>Cabernet Sauvignon</td>\n",
       "      <td>red</td>\n",
       "      <td>light, fruity</td>\n",
       "    </tr>\n",
       "    <tr>\n",
       "      <th>3</th>\n",
       "      <td>Louis M. Martini 2012 Cabernet Sauvignon (Alex...</td>\n",
       "      <td>US</td>\n",
       "      <td>87</td>\n",
       "      <td>34</td>\n",
       "      <td>California</td>\n",
       "      <td>Cabernet Sauvignon</td>\n",
       "      <td>red</td>\n",
       "      <td>medium bodied, balanced</td>\n",
       "    </tr>\n",
       "    <tr>\n",
       "      <th>4</th>\n",
       "      <td>Felix Lavaque 2010 Felix Malbec (Cafayate)</td>\n",
       "      <td>Argentina</td>\n",
       "      <td>87</td>\n",
       "      <td>30</td>\n",
       "      <td>Other</td>\n",
       "      <td>Malbec</td>\n",
       "      <td>red</td>\n",
       "      <td>medium bodied, balanced</td>\n",
       "    </tr>\n",
       "  </tbody>\n",
       "</table>\n",
       "</div>"
      ],
      "text/plain": [
       "                                               title    country  points  \\\n",
       "0      Quinta dos Avidagos 2011 Avidagos Red (Douro)   Portugal      87   \n",
       "1  Sweet Cheeks 2012 Vintner's Reserve Wild Child...         US      87   \n",
       "2  Kirkland Signature 2011 Mountain Cuvée Caberne...         US      87   \n",
       "3  Louis M. Martini 2012 Cabernet Sauvignon (Alex...         US      87   \n",
       "4         Felix Lavaque 2010 Felix Malbec (Cafayate)  Argentina      87   \n",
       "\n",
       "   price    province             variety category  \\\n",
       "0     15       Douro      Portuguese Red      red   \n",
       "1     65      Oregon          Pinot Noir      red   \n",
       "2     19  California  Cabernet Sauvignon      red   \n",
       "3     34  California  Cabernet Sauvignon      red   \n",
       "4     30       Other              Malbec      red   \n",
       "\n",
       "  flavor_categories_taste_notes  \n",
       "0                 light, fruity  \n",
       "1       medium bodied, balanced  \n",
       "2                 light, fruity  \n",
       "3       medium bodied, balanced  \n",
       "4       medium bodied, balanced  "
      ]
     },
     "execution_count": 3,
     "metadata": {},
     "output_type": "execute_result"
    }
   ],
   "source": [
    "master_df.head()"
   ]
  },
  {
   "cell_type": "code",
   "execution_count": 4,
   "metadata": {},
   "outputs": [],
   "source": [
    "export = master_df.to_json(\"../../wine_application/parallax-template/static/js/recommender_json.json\", orient='records')"
   ]
  },
  {
   "cell_type": "code",
   "execution_count": null,
   "metadata": {},
   "outputs": [],
   "source": []
  }
 ],
 "metadata": {
  "kernelspec": {
   "display_name": "Python [conda env:PythonData]",
   "language": "python",
   "name": "conda-env-PythonData-py"
  },
  "language_info": {
   "codemirror_mode": {
    "name": "ipython",
    "version": 3
   },
   "file_extension": ".py",
   "mimetype": "text/x-python",
   "name": "python",
   "nbconvert_exporter": "python",
   "pygments_lexer": "ipython3",
   "version": "3.6.8"
  }
 },
 "nbformat": 4,
 "nbformat_minor": 2
}
